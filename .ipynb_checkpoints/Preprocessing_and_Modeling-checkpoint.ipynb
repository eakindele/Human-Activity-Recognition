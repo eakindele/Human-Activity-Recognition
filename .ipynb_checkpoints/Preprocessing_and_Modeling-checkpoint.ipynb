{
 "cells": [
  {
   "cell_type": "code",
   "execution_count": 1,
   "metadata": {},
   "outputs": [],
   "source": [
    "import pandas as pd\n",
    "import numpy as np\n",
    "import matplotlib.pyplot as plt\n",
    "import datetime as dt\n",
    "from sklearn.preprocessing import LabelEncoder\n",
    "import scipy.stats as stats \n",
    "from sklearn.preprocessing import StandardScaler\n",
    "\n",
    "from tensorflow.keras.models import Sequential\n",
    "from tensorflow.keras import datasets, layers, models\n",
    "from tensorflow.keras.layers import Conv2D, Dropout, Flatten, Dense\n",
    "from tensorflow.keras import optimizers\n",
    "from sklearn.metrics import confusion_matrix\n",
    "from mlxtend.plotting import plot_confusion_matrix"
   ]
  },
  {
   "cell_type": "code",
   "execution_count": 2,
   "metadata": {},
   "outputs": [],
   "source": [
    "train = pd.read_csv('training.csv')\n",
    "test = pd.read_csv('testing.csv')"
   ]
  },
  {
   "cell_type": "code",
   "execution_count": 3,
   "metadata": {},
   "outputs": [
    {
     "data": {
      "text/html": [
       "<div>\n",
       "<style scoped>\n",
       "    .dataframe tbody tr th:only-of-type {\n",
       "        vertical-align: middle;\n",
       "    }\n",
       "\n",
       "    .dataframe tbody tr th {\n",
       "        vertical-align: top;\n",
       "    }\n",
       "\n",
       "    .dataframe thead th {\n",
       "        text-align: right;\n",
       "    }\n",
       "</style>\n",
       "<table border=\"1\" class=\"dataframe\">\n",
       "  <thead>\n",
       "    <tr style=\"text-align: right;\">\n",
       "      <th></th>\n",
       "      <th>time</th>\n",
       "      <th>x</th>\n",
       "      <th>y</th>\n",
       "      <th>z</th>\n",
       "      <th>subject</th>\n",
       "      <th>label</th>\n",
       "    </tr>\n",
       "  </thead>\n",
       "  <tbody>\n",
       "    <tr>\n",
       "      <th>0</th>\n",
       "      <td>2016-04-20 10:09:51.378</td>\n",
       "      <td>-0.312500</td>\n",
       "      <td>-0.125000</td>\n",
       "      <td>0.890625</td>\n",
       "      <td>34</td>\n",
       "      <td>sitting</td>\n",
       "    </tr>\n",
       "    <tr>\n",
       "      <th>1</th>\n",
       "      <td>2016-04-20 10:09:51.388</td>\n",
       "      <td>-0.281250</td>\n",
       "      <td>-0.125000</td>\n",
       "      <td>0.890625</td>\n",
       "      <td>34</td>\n",
       "      <td>sitting</td>\n",
       "    </tr>\n",
       "    <tr>\n",
       "      <th>2</th>\n",
       "      <td>2016-04-20 10:09:51.397</td>\n",
       "      <td>-0.265625</td>\n",
       "      <td>-0.109375</td>\n",
       "      <td>0.890625</td>\n",
       "      <td>34</td>\n",
       "      <td>sitting</td>\n",
       "    </tr>\n",
       "    <tr>\n",
       "      <th>3</th>\n",
       "      <td>2016-04-20 10:09:51.407</td>\n",
       "      <td>-0.281250</td>\n",
       "      <td>-0.109375</td>\n",
       "      <td>0.890625</td>\n",
       "      <td>34</td>\n",
       "      <td>sitting</td>\n",
       "    </tr>\n",
       "    <tr>\n",
       "      <th>4</th>\n",
       "      <td>2016-04-20 10:09:51.417</td>\n",
       "      <td>-0.281250</td>\n",
       "      <td>-0.125000</td>\n",
       "      <td>0.890625</td>\n",
       "      <td>34</td>\n",
       "      <td>sitting</td>\n",
       "    </tr>\n",
       "  </tbody>\n",
       "</table>\n",
       "</div>"
      ],
      "text/plain": [
       "                      time         x         y         z  subject    label\n",
       "0  2016-04-20 10:09:51.378 -0.312500 -0.125000  0.890625       34  sitting\n",
       "1  2016-04-20 10:09:51.388 -0.281250 -0.125000  0.890625       34  sitting\n",
       "2  2016-04-20 10:09:51.397 -0.265625 -0.109375  0.890625       34  sitting\n",
       "3  2016-04-20 10:09:51.407 -0.281250 -0.109375  0.890625       34  sitting\n",
       "4  2016-04-20 10:09:51.417 -0.281250 -0.125000  0.890625       34  sitting"
      ]
     },
     "execution_count": 3,
     "metadata": {},
     "output_type": "execute_result"
    }
   ],
   "source": [
    "train.head()"
   ]
  },
  {
   "cell_type": "code",
   "execution_count": 4,
   "metadata": {},
   "outputs": [
    {
     "data": {
      "text/html": [
       "<div>\n",
       "<style scoped>\n",
       "    .dataframe tbody tr th:only-of-type {\n",
       "        vertical-align: middle;\n",
       "    }\n",
       "\n",
       "    .dataframe tbody tr th {\n",
       "        vertical-align: top;\n",
       "    }\n",
       "\n",
       "    .dataframe thead th {\n",
       "        text-align: right;\n",
       "    }\n",
       "</style>\n",
       "<table border=\"1\" class=\"dataframe\">\n",
       "  <thead>\n",
       "    <tr style=\"text-align: right;\">\n",
       "      <th></th>\n",
       "      <th>time</th>\n",
       "      <th>x</th>\n",
       "      <th>y</th>\n",
       "      <th>z</th>\n",
       "      <th>subject</th>\n",
       "      <th>label</th>\n",
       "    </tr>\n",
       "  </thead>\n",
       "  <tbody>\n",
       "    <tr>\n",
       "      <th>0</th>\n",
       "      <td>2016-04-22 14:09:05.161</td>\n",
       "      <td>-0.375000</td>\n",
       "      <td>-0.062500</td>\n",
       "      <td>0.859375</td>\n",
       "      <td>30</td>\n",
       "      <td>sitting</td>\n",
       "    </tr>\n",
       "    <tr>\n",
       "      <th>1</th>\n",
       "      <td>2016-04-22 14:09:05.171</td>\n",
       "      <td>-0.375000</td>\n",
       "      <td>-0.062500</td>\n",
       "      <td>0.859375</td>\n",
       "      <td>30</td>\n",
       "      <td>sitting</td>\n",
       "    </tr>\n",
       "    <tr>\n",
       "      <th>2</th>\n",
       "      <td>2016-04-22 14:09:05.181</td>\n",
       "      <td>-0.375000</td>\n",
       "      <td>-0.062500</td>\n",
       "      <td>0.859375</td>\n",
       "      <td>30</td>\n",
       "      <td>sitting</td>\n",
       "    </tr>\n",
       "    <tr>\n",
       "      <th>3</th>\n",
       "      <td>2016-04-22 14:09:05.190</td>\n",
       "      <td>-0.343750</td>\n",
       "      <td>-0.062500</td>\n",
       "      <td>0.859375</td>\n",
       "      <td>30</td>\n",
       "      <td>sitting</td>\n",
       "    </tr>\n",
       "    <tr>\n",
       "      <th>4</th>\n",
       "      <td>2016-04-22 14:09:05.200</td>\n",
       "      <td>-0.328125</td>\n",
       "      <td>-0.046875</td>\n",
       "      <td>0.859375</td>\n",
       "      <td>30</td>\n",
       "      <td>sitting</td>\n",
       "    </tr>\n",
       "  </tbody>\n",
       "</table>\n",
       "</div>"
      ],
      "text/plain": [
       "                      time         x         y         z  subject    label\n",
       "0  2016-04-22 14:09:05.161 -0.375000 -0.062500  0.859375       30  sitting\n",
       "1  2016-04-22 14:09:05.171 -0.375000 -0.062500  0.859375       30  sitting\n",
       "2  2016-04-22 14:09:05.181 -0.375000 -0.062500  0.859375       30  sitting\n",
       "3  2016-04-22 14:09:05.190 -0.343750 -0.062500  0.859375       30  sitting\n",
       "4  2016-04-22 14:09:05.200 -0.328125 -0.046875  0.859375       30  sitting"
      ]
     },
     "execution_count": 4,
     "metadata": {},
     "output_type": "execute_result"
    }
   ],
   "source": [
    "test.head()"
   ]
  },
  {
   "cell_type": "markdown",
   "metadata": {},
   "source": [
    "## Reformatting"
   ]
  },
  {
   "cell_type": "code",
   "execution_count": 5,
   "metadata": {},
   "outputs": [],
   "source": [
    "train.drop(columns = ['subject','time'], inplace=True) # I don't need time since I know the sampling rate\n",
    "test.drop(columns = ['subject','time'], inplace=True)"
   ]
  },
  {
   "cell_type": "code",
   "execution_count": 6,
   "metadata": {},
   "outputs": [
    {
     "data": {
      "text/html": [
       "<div>\n",
       "<style scoped>\n",
       "    .dataframe tbody tr th:only-of-type {\n",
       "        vertical-align: middle;\n",
       "    }\n",
       "\n",
       "    .dataframe tbody tr th {\n",
       "        vertical-align: top;\n",
       "    }\n",
       "\n",
       "    .dataframe thead th {\n",
       "        text-align: right;\n",
       "    }\n",
       "</style>\n",
       "<table border=\"1\" class=\"dataframe\">\n",
       "  <thead>\n",
       "    <tr style=\"text-align: right;\">\n",
       "      <th></th>\n",
       "      <th>x</th>\n",
       "      <th>y</th>\n",
       "      <th>z</th>\n",
       "      <th>label</th>\n",
       "    </tr>\n",
       "  </thead>\n",
       "  <tbody>\n",
       "    <tr>\n",
       "      <th>0</th>\n",
       "      <td>-0.375000</td>\n",
       "      <td>-0.062500</td>\n",
       "      <td>0.859375</td>\n",
       "      <td>sitting</td>\n",
       "    </tr>\n",
       "    <tr>\n",
       "      <th>1</th>\n",
       "      <td>-0.375000</td>\n",
       "      <td>-0.062500</td>\n",
       "      <td>0.859375</td>\n",
       "      <td>sitting</td>\n",
       "    </tr>\n",
       "    <tr>\n",
       "      <th>2</th>\n",
       "      <td>-0.375000</td>\n",
       "      <td>-0.062500</td>\n",
       "      <td>0.859375</td>\n",
       "      <td>sitting</td>\n",
       "    </tr>\n",
       "    <tr>\n",
       "      <th>3</th>\n",
       "      <td>-0.343750</td>\n",
       "      <td>-0.062500</td>\n",
       "      <td>0.859375</td>\n",
       "      <td>sitting</td>\n",
       "    </tr>\n",
       "    <tr>\n",
       "      <th>4</th>\n",
       "      <td>-0.328125</td>\n",
       "      <td>-0.046875</td>\n",
       "      <td>0.859375</td>\n",
       "      <td>sitting</td>\n",
       "    </tr>\n",
       "  </tbody>\n",
       "</table>\n",
       "</div>"
      ],
      "text/plain": [
       "          x         y         z    label\n",
       "0 -0.375000 -0.062500  0.859375  sitting\n",
       "1 -0.375000 -0.062500  0.859375  sitting\n",
       "2 -0.375000 -0.062500  0.859375  sitting\n",
       "3 -0.343750 -0.062500  0.859375  sitting\n",
       "4 -0.328125 -0.046875  0.859375  sitting"
      ]
     },
     "execution_count": 6,
     "metadata": {},
     "output_type": "execute_result"
    }
   ],
   "source": [
    "test.head()"
   ]
  },
  {
   "cell_type": "code",
   "execution_count": 7,
   "metadata": {},
   "outputs": [
    {
     "data": {
      "text/html": [
       "<div>\n",
       "<style scoped>\n",
       "    .dataframe tbody tr th:only-of-type {\n",
       "        vertical-align: middle;\n",
       "    }\n",
       "\n",
       "    .dataframe tbody tr th {\n",
       "        vertical-align: top;\n",
       "    }\n",
       "\n",
       "    .dataframe thead th {\n",
       "        text-align: right;\n",
       "    }\n",
       "</style>\n",
       "<table border=\"1\" class=\"dataframe\">\n",
       "  <thead>\n",
       "    <tr style=\"text-align: right;\">\n",
       "      <th></th>\n",
       "      <th>x</th>\n",
       "      <th>y</th>\n",
       "      <th>z</th>\n",
       "      <th>label</th>\n",
       "    </tr>\n",
       "  </thead>\n",
       "  <tbody>\n",
       "    <tr>\n",
       "      <th>0</th>\n",
       "      <td>-0.312500</td>\n",
       "      <td>-0.125000</td>\n",
       "      <td>0.890625</td>\n",
       "      <td>sitting</td>\n",
       "    </tr>\n",
       "    <tr>\n",
       "      <th>1</th>\n",
       "      <td>-0.281250</td>\n",
       "      <td>-0.125000</td>\n",
       "      <td>0.890625</td>\n",
       "      <td>sitting</td>\n",
       "    </tr>\n",
       "    <tr>\n",
       "      <th>2</th>\n",
       "      <td>-0.265625</td>\n",
       "      <td>-0.109375</td>\n",
       "      <td>0.890625</td>\n",
       "      <td>sitting</td>\n",
       "    </tr>\n",
       "    <tr>\n",
       "      <th>3</th>\n",
       "      <td>-0.281250</td>\n",
       "      <td>-0.109375</td>\n",
       "      <td>0.890625</td>\n",
       "      <td>sitting</td>\n",
       "    </tr>\n",
       "    <tr>\n",
       "      <th>4</th>\n",
       "      <td>-0.281250</td>\n",
       "      <td>-0.125000</td>\n",
       "      <td>0.890625</td>\n",
       "      <td>sitting</td>\n",
       "    </tr>\n",
       "  </tbody>\n",
       "</table>\n",
       "</div>"
      ],
      "text/plain": [
       "          x         y         z    label\n",
       "0 -0.312500 -0.125000  0.890625  sitting\n",
       "1 -0.281250 -0.125000  0.890625  sitting\n",
       "2 -0.265625 -0.109375  0.890625  sitting\n",
       "3 -0.281250 -0.109375  0.890625  sitting\n",
       "4 -0.281250 -0.125000  0.890625  sitting"
      ]
     },
     "execution_count": 7,
     "metadata": {},
     "output_type": "execute_result"
    }
   ],
   "source": [
    "train.head()"
   ]
  },
  {
   "cell_type": "markdown",
   "metadata": {},
   "source": [
    "## Encoding Labels"
   ]
  },
  {
   "cell_type": "code",
   "execution_count": 8,
   "metadata": {},
   "outputs": [
    {
     "data": {
      "text/html": [
       "<div>\n",
       "<style scoped>\n",
       "    .dataframe tbody tr th:only-of-type {\n",
       "        vertical-align: middle;\n",
       "    }\n",
       "\n",
       "    .dataframe tbody tr th {\n",
       "        vertical-align: top;\n",
       "    }\n",
       "\n",
       "    .dataframe thead th {\n",
       "        text-align: right;\n",
       "    }\n",
       "</style>\n",
       "<table border=\"1\" class=\"dataframe\">\n",
       "  <thead>\n",
       "    <tr style=\"text-align: right;\">\n",
       "      <th></th>\n",
       "      <th>x</th>\n",
       "      <th>y</th>\n",
       "      <th>z</th>\n",
       "      <th>label</th>\n",
       "      <th>target</th>\n",
       "    </tr>\n",
       "  </thead>\n",
       "  <tbody>\n",
       "    <tr>\n",
       "      <th>0</th>\n",
       "      <td>-0.312500</td>\n",
       "      <td>-0.125000</td>\n",
       "      <td>0.890625</td>\n",
       "      <td>sitting</td>\n",
       "      <td>2</td>\n",
       "    </tr>\n",
       "    <tr>\n",
       "      <th>1</th>\n",
       "      <td>-0.281250</td>\n",
       "      <td>-0.125000</td>\n",
       "      <td>0.890625</td>\n",
       "      <td>sitting</td>\n",
       "      <td>2</td>\n",
       "    </tr>\n",
       "    <tr>\n",
       "      <th>2</th>\n",
       "      <td>-0.265625</td>\n",
       "      <td>-0.109375</td>\n",
       "      <td>0.890625</td>\n",
       "      <td>sitting</td>\n",
       "      <td>2</td>\n",
       "    </tr>\n",
       "    <tr>\n",
       "      <th>3</th>\n",
       "      <td>-0.281250</td>\n",
       "      <td>-0.109375</td>\n",
       "      <td>0.890625</td>\n",
       "      <td>sitting</td>\n",
       "      <td>2</td>\n",
       "    </tr>\n",
       "    <tr>\n",
       "      <th>4</th>\n",
       "      <td>-0.281250</td>\n",
       "      <td>-0.125000</td>\n",
       "      <td>0.890625</td>\n",
       "      <td>sitting</td>\n",
       "      <td>2</td>\n",
       "    </tr>\n",
       "  </tbody>\n",
       "</table>\n",
       "</div>"
      ],
      "text/plain": [
       "          x         y         z    label  target\n",
       "0 -0.312500 -0.125000  0.890625  sitting       2\n",
       "1 -0.281250 -0.125000  0.890625  sitting       2\n",
       "2 -0.265625 -0.109375  0.890625  sitting       2\n",
       "3 -0.281250 -0.109375  0.890625  sitting       2\n",
       "4 -0.281250 -0.125000  0.890625  sitting       2"
      ]
     },
     "execution_count": 8,
     "metadata": {},
     "output_type": "execute_result"
    }
   ],
   "source": [
    "target = LabelEncoder()\n",
    "train['target'] = target.fit_transform(train['label'])\n",
    "train.head()"
   ]
  },
  {
   "cell_type": "code",
   "execution_count": 9,
   "metadata": {},
   "outputs": [],
   "source": [
    "test['target'] = target.transform(test['label'])"
   ]
  },
  {
   "cell_type": "code",
   "execution_count": 10,
   "metadata": {},
   "outputs": [
    {
     "name": "stdout",
     "output_type": "stream",
     "text": [
      "jogging       618161\n",
      "standing      474300\n",
      "sitting       458342\n",
      "walking       453766\n",
      "upstairs      203474\n",
      "downstairs    191459\n",
      "Name: label, dtype: int64 \n",
      "\n",
      " 1    618161\n",
      "3    474300\n",
      "2    458342\n",
      "5    453766\n",
      "4    203474\n",
      "0    191459\n",
      "Name: target, dtype: int64\n"
     ]
    }
   ],
   "source": [
    "print(train['label'].value_counts(), '\\n\\n', train['target'].value_counts())"
   ]
  },
  {
   "cell_type": "code",
   "execution_count": 11,
   "metadata": {},
   "outputs": [
    {
     "name": "stdout",
     "output_type": "stream",
     "text": [
      "jogging       166880\n",
      "walking       128312\n",
      "standing      124926\n",
      "sitting       123480\n",
      "upstairs       58197\n",
      "downstairs     48687\n",
      "Name: label, dtype: int64 \n",
      "\n",
      " 1    166880\n",
      "5    128312\n",
      "3    124926\n",
      "2    123480\n",
      "4     58197\n",
      "0     48687\n",
      "Name: target, dtype: int64\n"
     ]
    }
   ],
   "source": [
    "print(test['label'].value_counts(), '\\n\\n', test['target'].value_counts())"
   ]
  },
  {
   "cell_type": "code",
   "execution_count": 12,
   "metadata": {},
   "outputs": [
    {
     "data": {
      "text/plain": [
       "1    166880\n",
       "5    128312\n",
       "3    124926\n",
       "2    123480\n",
       "4     58197\n",
       "0     48687\n",
       "Name: target, dtype: int64"
      ]
     },
     "execution_count": 12,
     "metadata": {},
     "output_type": "execute_result"
    }
   ],
   "source": [
    "test['target'].value_counts()"
   ]
  },
  {
   "cell_type": "code",
   "execution_count": 13,
   "metadata": {},
   "outputs": [],
   "source": [
    "## values lineup, and training and testing dfs have same key"
   ]
  },
  {
   "cell_type": "markdown",
   "metadata": {},
   "source": [
    "## Creating X and y for Training/Testing"
   ]
  },
  {
   "cell_type": "code",
   "execution_count": 13,
   "metadata": {},
   "outputs": [],
   "source": [
    "X_train = train[['x', 'y', 'z']]\n",
    "y_train = train[['target']] #need to hold as df for windows later"
   ]
  },
  {
   "cell_type": "code",
   "execution_count": 14,
   "metadata": {},
   "outputs": [],
   "source": [
    "X_test = test[['x', 'y', 'z']]\n",
    "y_test = test[['target']] #need to hold as df for windows later"
   ]
  },
  {
   "cell_type": "code",
   "execution_count": 15,
   "metadata": {},
   "outputs": [],
   "source": [
    "sc = StandardScaler()\n",
    "X_train = sc.fit_transform(X_train)\n",
    "X_test = sc.transform(X_test)"
   ]
  },
  {
   "cell_type": "code",
   "execution_count": 16,
   "metadata": {},
   "outputs": [
    {
     "name": "stdout",
     "output_type": "stream",
     "text": [
      "          x         y         z  target\n",
      "0  0.310977  0.619077  1.529176       2\n",
      "1  0.351254  0.619077  1.529176       2\n",
      "2  0.371392  0.642108  1.529176       2\n",
      "3  0.351254  0.642108  1.529176       2\n",
      "4  0.351254  0.619077  1.529176       2 \n",
      "\n",
      "\n",
      "\n",
      "                 x         y         z  target\n",
      "2399497  0.592913  0.112396 -0.371507       0\n",
      "2399498  0.693604  0.204520 -0.404853       0\n",
      "2399499  0.713742  0.273612 -0.438198       0\n",
      "2399500  0.733881  0.319674 -0.538234       0\n",
      "2399501  0.713742  0.342705 -0.604924       0\n"
     ]
    }
   ],
   "source": [
    "# turned scaled data back into df to pass through function\n",
    "X_train = pd.DataFrame(data = X_train, columns=['x','y','z'])\n",
    "df_train = pd.concat([X_train, y_train], axis = 1)\n",
    "print(df_train.head(), '\\n\\n\\n\\n', df_train.tail())"
   ]
  },
  {
   "cell_type": "code",
   "execution_count": 17,
   "metadata": {},
   "outputs": [
    {
     "name": "stdout",
     "output_type": "stream",
     "text": [
      "          x         y         z  target\n",
      "0  0.230424  0.711201  1.462485       2\n",
      "1  0.230424  0.711201  1.462485       2\n",
      "2  0.230424  0.711201  1.462485       2\n",
      "3  0.270701  0.711201  1.462485       2\n",
      "4  0.290839  0.734232  1.462485       2 \n",
      "\n",
      "\n",
      "\n",
      "                x         y         z  target\n",
      "650477 -0.051511 -0.140945 -0.271471       0\n",
      "650478  0.008904 -0.094883 -0.271471       0\n",
      "650479  0.029042 -0.048821 -0.304817       0\n",
      "650480  0.029042 -0.025790 -0.338162       0\n",
      "650481  0.029042 -0.025790 -0.371507       0\n"
     ]
    }
   ],
   "source": [
    "X_test = pd.DataFrame(data = X_test, columns=['x','y','z'])\n",
    "df_test = pd.concat([X_test, y_test], axis = 1)\n",
    "print(df_test.head(), '\\n\\n\\n\\n', df_test.tail())"
   ]
  },
  {
   "cell_type": "markdown",
   "metadata": {},
   "source": [
    "## Windowing"
   ]
  },
  {
   "cell_type": "markdown",
   "metadata": {},
   "source": [
    "Raw accelerometer data is not the most useful for builing models. As such, I am going to widow the data, as research suggests it yields better models."
   ]
  },
  {
   "cell_type": "code",
   "execution_count": 18,
   "metadata": {},
   "outputs": [],
   "source": [
    "fz = 100 # sampling frequency of the accelerometer\n",
    "window_size = fz * 4 # multiplying sampling rate by time to get total samples over a period\n",
    "step_size = fz * 2 # specifing how far to 'slide' the window, sliding over 10 seconds will give me a 50% overlap"
   ]
  },
  {
   "cell_type": "code",
   "execution_count": 19,
   "metadata": {},
   "outputs": [],
   "source": [
    "def select_window(df, window_size, stop_size):\n",
    "    \n",
    "    params = 3\n",
    "    windows = []\n",
    "    targets = []\n",
    "    \n",
    "    for i in range(0, len(df) - window_size, step_size):\n",
    "        x = df['x'].values[i: i + window_size]\n",
    "        y = df['y'].values[i: i + window_size]\n",
    "        z = df['z'].values[i: i + window_size]\n",
    "        \n",
    "        # my method isn't perfect. in sliding the window\n",
    "        # there are going to be windows that encompass multiple activities\n",
    "        # so i'm going to take the activity that appears the most in each window\n",
    "        # as being the \"activity\"\n",
    "        \n",
    "        target = stats.mode(df['target'][i: i + window_size])[0][0]\n",
    "        windows.append([x, y, z])\n",
    "        targets.append(target)\n",
    "    \n",
    "    windows = np.asarray(windows).reshape(-1, window_size, params)\n",
    "    targets = np.asarray(targets)\n",
    "    \n",
    "    return windows, targets"
   ]
  },
  {
   "cell_type": "code",
   "execution_count": 20,
   "metadata": {},
   "outputs": [],
   "source": [
    "train_windows, train_y = select_window(df_train, window_size, step_size)"
   ]
  },
  {
   "cell_type": "code",
   "execution_count": 21,
   "metadata": {},
   "outputs": [],
   "source": [
    "test_windows, test_y = select_window(df_test, window_size, step_size)"
   ]
  },
  {
   "cell_type": "code",
   "execution_count": 22,
   "metadata": {},
   "outputs": [
    {
     "data": {
      "text/plain": [
       "((11996, 400, 3), (3251, 400, 3))"
      ]
     },
     "execution_count": 22,
     "metadata": {},
     "output_type": "execute_result"
    }
   ],
   "source": [
    "train_windows.shape, test_windows.shape"
   ]
  },
  {
   "cell_type": "code",
   "execution_count": 23,
   "metadata": {},
   "outputs": [
    {
     "data": {
      "text/plain": [
       "array([[0.31097739, 0.35125388, 0.37139213],\n",
       "       [0.35125388, 0.35125388, 0.37139213],\n",
       "       [0.35125388, 0.35125388, 0.33111564],\n",
       "       ...,\n",
       "       [1.52917602, 1.4958307 , 1.4958307 ],\n",
       "       [1.4958307 , 1.52917602, 1.4958307 ],\n",
       "       [1.4958307 , 1.52917602, 1.52917602]])"
      ]
     },
     "execution_count": 23,
     "metadata": {},
     "output_type": "execute_result"
    }
   ],
   "source": [
    "train_windows[0]"
   ]
  },
  {
   "cell_type": "code",
   "execution_count": 24,
   "metadata": {},
   "outputs": [],
   "source": [
    "train_windows = train_windows.reshape(11996, 400, 3, 1)\n",
    "test_windows = test_windows.reshape(3251, 400, 3, 1)"
   ]
  },
  {
   "cell_type": "code",
   "execution_count": 37,
   "metadata": {},
   "outputs": [
    {
     "name": "stdout",
     "output_type": "stream",
     "text": [
      "Train on 11996 samples, validate on 3251 samples\n",
      "Epoch 1/10\n",
      "11996/11996 [==============================] - 452s 38ms/sample - loss: 0.5677 - accuracy: 0.7819 - val_loss: 0.4764 - val_accuracy: 0.8284\n",
      "Epoch 2/10\n",
      "11996/11996 [==============================] - 453s 38ms/sample - loss: 0.3979 - accuracy: 0.8452 - val_loss: 0.4532 - val_accuracy: 0.8277\n",
      "Epoch 3/10\n",
      "11996/11996 [==============================] - 452s 38ms/sample - loss: 0.3455 - accuracy: 0.8599 - val_loss: 0.4511 - val_accuracy: 0.8327\n",
      "Epoch 4/10\n",
      "11996/11996 [==============================] - 447s 37ms/sample - loss: 0.3294 - accuracy: 0.8613 - val_loss: 0.4545 - val_accuracy: 0.8268\n",
      "Epoch 5/10\n",
      "11996/11996 [==============================] - 447s 37ms/sample - loss: 0.3084 - accuracy: 0.8690 - val_loss: 0.4492 - val_accuracy: 0.8351\n",
      "Epoch 6/10\n",
      "11996/11996 [==============================] - 446s 37ms/sample - loss: 0.2982 - accuracy: 0.8723 - val_loss: 0.5908 - val_accuracy: 0.8139\n",
      "Epoch 7/10\n",
      "11996/11996 [==============================] - 452s 38ms/sample - loss: 0.2733 - accuracy: 0.8838 - val_loss: 0.5140 - val_accuracy: 0.8345\n",
      "Epoch 8/10\n",
      "11996/11996 [==============================] - 458s 38ms/sample - loss: 0.2599 - accuracy: 0.8911 - val_loss: 0.4998 - val_accuracy: 0.8265\n",
      "Epoch 9/10\n",
      "11996/11996 [==============================] - 447s 37ms/sample - loss: 0.2623 - accuracy: 0.8890 - val_loss: 0.4521 - val_accuracy: 0.8201\n",
      "Epoch 10/10\n",
      "11996/11996 [==============================] - 455s 38ms/sample - loss: 0.2424 - accuracy: 0.8963 - val_loss: 0.4018 - val_accuracy: 0.8484\n"
     ]
    }
   ],
   "source": [
    "model4 = Sequential()\n",
    "model4.add(Conv2D(128, (2, 2), activation ='relu', input_shape=train_windows[0].shape))\n",
    "model4.add(Dropout(0.1))\n",
    "\n",
    "model4.add(Conv2D(128, (2,2),activation='relu'))\n",
    "model4.add(Dropout(0.4))\n",
    "\n",
    "model4.add(Flatten())\n",
    "\n",
    "model4.add(Dense(64, activation='relu'))\n",
    "model4.add(Dropout(0.5))\n",
    "\n",
    "model4.add(Dense(6, activation='softmax'))\n",
    "\n",
    "model4.compile(optimizer=optimizers.Adam(learning_rate=0.001), loss='sparse_categorical_crossentropy', metrics=['accuracy'])\n",
    "history = model4.fit(train_windows, train_y, epochs=10, validation_data=(test_windows,test_y), verbose=1)"
   ]
  },
  {
   "cell_type": "code",
   "execution_count": 38,
   "metadata": {},
   "outputs": [
    {
     "name": "stdout",
     "output_type": "stream",
     "text": [
      "Train on 11996 samples, validate on 3251 samples\n",
      "Epoch 1/10\n",
      "11996/11996 [==============================] - 179s 15ms/sample - loss: 0.5724 - accuracy: 0.7796 - val_loss: 0.4066 - val_accuracy: 0.8345\n",
      "Epoch 2/10\n",
      "11996/11996 [==============================] - 175s 15ms/sample - loss: 0.3715 - accuracy: 0.8578 - val_loss: 0.4013 - val_accuracy: 0.8305\n",
      "Epoch 3/10\n",
      "11996/11996 [==============================] - 176s 15ms/sample - loss: 0.3271 - accuracy: 0.8661 - val_loss: 0.3651 - val_accuracy: 0.8281\n",
      "Epoch 4/10\n",
      "11996/11996 [==============================] - 179s 15ms/sample - loss: 0.2959 - accuracy: 0.8806 - val_loss: 0.3963 - val_accuracy: 0.8327\n",
      "Epoch 5/10\n",
      "11996/11996 [==============================] - 177s 15ms/sample - loss: 0.2763 - accuracy: 0.8880 - val_loss: 0.4657 - val_accuracy: 0.8333\n",
      "Epoch 6/10\n",
      "11996/11996 [==============================] - 177s 15ms/sample - loss: 0.2561 - accuracy: 0.8945 - val_loss: 0.4329 - val_accuracy: 0.8379\n",
      "Epoch 7/10\n",
      "11996/11996 [==============================] - 175s 15ms/sample - loss: 0.2468 - accuracy: 0.8982 - val_loss: 0.4611 - val_accuracy: 0.8370\n",
      "Epoch 8/10\n",
      "11996/11996 [==============================] - 174s 15ms/sample - loss: 0.2286 - accuracy: 0.9029 - val_loss: 0.5130 - val_accuracy: 0.8419\n",
      "Epoch 9/10\n",
      "11996/11996 [==============================] - 173s 14ms/sample - loss: 0.2108 - accuracy: 0.9133 - val_loss: 0.5829 - val_accuracy: 0.8570\n",
      "Epoch 10/10\n",
      "11996/11996 [==============================] - 174s 15ms/sample - loss: 0.1977 - accuracy: 0.9161 - val_loss: 0.5309 - val_accuracy: 0.8477\n"
     ]
    }
   ],
   "source": [
    "model5 = Sequential()\n",
    "model5.add(Conv2D(64, (2, 2), activation ='relu', input_shape=train_windows[0].shape))\n",
    "model5.add(Dropout(0.1))\n",
    "\n",
    "model5.add(Conv2D(32, (2,2),activation='relu'))\n",
    "model5.add(Dropout(0.4))\n",
    "\n",
    "model5.add(Flatten())\n",
    "\n",
    "model5.add(Dense(124, activation='relu'))\n",
    "model5.add(Dropout(0.5))\n",
    "\n",
    "model5.add(Dense(6, activation='softmax'))\n",
    "\n",
    "model5.compile(optimizer=optimizers.Adam(learning_rate=0.001), loss='sparse_categorical_crossentropy', metrics=['accuracy'])\n",
    "history = model5.fit(train_windows, train_y, epochs=10, validation_data=(test_windows,test_y), verbose=1)"
   ]
  },
  {
   "cell_type": "code",
   "execution_count": 40,
   "metadata": {},
   "outputs": [
    {
     "data": {
      "image/png": "[encoded data removed]",
      "text/plain": [
       "<Figure size 504x504 with 1 Axes>"
      ]
     },
     "metadata": {
      "needs_background": "light"
     },
     "output_type": "display_data"
    }
   ],
   "source": [
    "y_pred = model4.predict_classes(test_windows)\n",
    "mat = confusion_matrix(test_y, y_pred)\n",
    "plot_confusion_matrix(conf_mat=mat, class_names=target.classes_, show_normed=True, figsize=(7,7));"
   ]
  },
  {
   "cell_type": "code",
   "execution_count": null,
   "metadata": {},
   "outputs": [],
   "source": []
  }
 ],
 "metadata": {
  "kernelspec": {
   "display_name": "Python 3",
   "language": "python",
   "name": "python3"
  },
  "language_info": {
   "codemirror_mode": {
    "name": "ipython",
    "version": 3
   },
   "file_extension": ".py",
   "mimetype": "text/x-python",
   "name": "python",
   "nbconvert_exporter": "python",
   "pygments_lexer": "ipython3",
   "version": "3.7.6"
  }
 },
 "nbformat": 4,
 "nbformat_minor": 4
}
